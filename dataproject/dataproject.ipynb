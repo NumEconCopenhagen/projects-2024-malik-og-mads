{
 "cells": [
  {
   "cell_type": "markdown",
   "metadata": {},
   "source": [
    "# Data Project"
   ]
  },
  {
   "cell_type": "markdown",
   "metadata": {},
   "source": [
    "Imports and set magics:"
   ]
  },
  {
   "cell_type": "code",
   "execution_count": 31,
   "metadata": {},
   "outputs": [
    {
     "name": "stdout",
     "output_type": "stream",
     "text": [
      "The autoreload extension is already loaded. To reload it, use:\n",
      "  %reload_ext autoreload\n"
     ]
    }
   ],
   "source": [
    "import pandas as pd\n",
    "import numpy as np\n",
    "import matplotlib.pyplot as plt\n",
    "import ipywidgets as widgets\n",
    "\n",
    "# autoreload modules when code is run\n",
    "%load_ext autoreload\n",
    "%autoreload 2\n",
    "\n",
    "# user written modules\n",
    "import dataproject\n"
   ]
  },
  {
   "cell_type": "markdown",
   "metadata": {},
   "source": [
    "# Read and clean data"
   ]
  },
  {
   "cell_type": "markdown",
   "metadata": {},
   "source": [
    "Import your data, either through an API or manually, and load it. "
   ]
  },
  {
   "cell_type": "code",
   "execution_count": 32,
   "metadata": {},
   "outputs": [],
   "source": [
    "import numpy as np\n",
    "import pandas as pd\n",
    "import datetime\n",
    "\n",
    "import pandas_datareader # install with `pip install pandas-datareader`\n",
    "from dstapi import DstApi # install with `pip install git+https://github.com/alemartinello/dstapi`\n",
    "\n",
    "import matplotlib.pyplot as plt\n",
    "plt.rcParams.update({\"axes.grid\":True,\"grid.color\":\"black\",\"grid.alpha\":\"0.25\",\"grid.linestyle\":\"--\"})\n",
    "plt.rcParams.update({'font.size': 14})\n",
    "\n",
    "# user written modules\n",
    "import dataproject"
   ]
  },
  {
   "cell_type": "code",
   "execution_count": 33,
   "metadata": {},
   "outputs": [],
   "source": [
    "ind = DstApi('STRAFNA3')"
   ]
  },
  {
   "cell_type": "code",
   "execution_count": 34,
   "metadata": {},
   "outputs": [
    {
     "name": "stdout",
     "output_type": "stream",
     "text": [
      "Table STRAFNA3: Persons guilty in crimes by sex, age, country of origin and time\n",
      "Last update: 2023-12-12T08:00:00\n"
     ]
    },
    {
     "data": {
      "text/html": [
       "<div>\n",
       "<style scoped>\n",
       "    .dataframe tbody tr th:only-of-type {\n",
       "        vertical-align: middle;\n",
       "    }\n",
       "\n",
       "    .dataframe tbody tr th {\n",
       "        vertical-align: top;\n",
       "    }\n",
       "\n",
       "    .dataframe thead th {\n",
       "        text-align: right;\n",
       "    }\n",
       "</style>\n",
       "<table border=\"1\" class=\"dataframe\">\n",
       "  <thead>\n",
       "    <tr style=\"text-align: right;\">\n",
       "      <th></th>\n",
       "      <th>variable name</th>\n",
       "      <th># values</th>\n",
       "      <th>First value</th>\n",
       "      <th>First value label</th>\n",
       "      <th>Last value</th>\n",
       "      <th>Last value label</th>\n",
       "      <th>Time variable</th>\n",
       "    </tr>\n",
       "  </thead>\n",
       "  <tbody>\n",
       "    <tr>\n",
       "      <th>0</th>\n",
       "      <td>KOEN</td>\n",
       "      <td>2</td>\n",
       "      <td>M</td>\n",
       "      <td>Men</td>\n",
       "      <td>K</td>\n",
       "      <td>Women</td>\n",
       "      <td>False</td>\n",
       "    </tr>\n",
       "    <tr>\n",
       "      <th>1</th>\n",
       "      <td>ALDER</td>\n",
       "      <td>4</td>\n",
       "      <td>TOT</td>\n",
       "      <td>Age, total</td>\n",
       "      <td>50-79</td>\n",
       "      <td>50-79 years</td>\n",
       "      <td>False</td>\n",
       "    </tr>\n",
       "    <tr>\n",
       "      <th>2</th>\n",
       "      <td>IELAND</td>\n",
       "      <td>75</td>\n",
       "      <td>0000</td>\n",
       "      <td>Total</td>\n",
       "      <td>7300</td>\n",
       "      <td>Other countries, non-western</td>\n",
       "      <td>False</td>\n",
       "    </tr>\n",
       "    <tr>\n",
       "      <th>3</th>\n",
       "      <td>Tid</td>\n",
       "      <td>21</td>\n",
       "      <td>2000</td>\n",
       "      <td>2000</td>\n",
       "      <td>2022</td>\n",
       "      <td>2022</td>\n",
       "      <td>True</td>\n",
       "    </tr>\n",
       "  </tbody>\n",
       "</table>\n",
       "</div>"
      ],
      "text/plain": [
       "  variable name  # values First value First value label Last value  \\\n",
       "0          KOEN         2           M               Men          K   \n",
       "1         ALDER         4         TOT        Age, total      50-79   \n",
       "2        IELAND        75        0000             Total       7300   \n",
       "3           Tid        21        2000              2000       2022   \n",
       "\n",
       "               Last value label  Time variable  \n",
       "0                         Women          False  \n",
       "1                   50-79 years          False  \n",
       "2  Other countries, non-western          False  \n",
       "3                          2022           True  "
      ]
     },
     "metadata": {},
     "output_type": "display_data"
    }
   ],
   "source": [
    "tabsum = ind.tablesummary(language='en')\n",
    "display(tabsum)"
   ]
  },
  {
   "cell_type": "code",
   "execution_count": 35,
   "metadata": {},
   "outputs": [
    {
     "data": {
      "text/plain": [
       "{'table': 'strafna3',\n",
       " 'format': 'BULK',\n",
       " 'lang': 'en',\n",
       " 'variables': [{'code': 'KOEN', 'values': ['*']},\n",
       "  {'code': 'ALDER', 'values': ['*']},\n",
       "  {'code': 'IELAND', 'values': ['*']},\n",
       "  {'code': 'Tid', 'values': ['*']}]}"
      ]
     },
     "execution_count": 35,
     "metadata": {},
     "output_type": "execute_result"
    }
   ],
   "source": [
    "# The _define_base_params -method gives us a nice template (selects all available data)\n",
    "params = ind._define_base_params(language='en')\n",
    "params"
   ]
  },
  {
   "cell_type": "code",
   "execution_count": 36,
   "metadata": {},
   "outputs": [
    {
     "data": {
      "text/plain": [
       "{'table': 'strafna3',\n",
       " 'format': 'BULK',\n",
       " 'lang': 'en',\n",
       " 'variables': [{'code': 'KOEN', 'values': ['*']},\n",
       "  {'code': 'ALDER', 'values': ['TOT']},\n",
       "  {'code': 'IELAND', 'values': ['*']},\n",
       "  {'code': 'Tid', 'values': ['2017', '2018', '2019', '2020', '2021', '2022']}]}"
      ]
     },
     "execution_count": 36,
     "metadata": {},
     "output_type": "execute_result"
    }
   ],
   "source": [
    "variables = params['variables'] # Returns a view, that we can edit\n",
    "variables[1]['values'] = ['TOT']\n",
    "variables[3]['values'] = ['2017', '2018', '2019', '2020', '2021', '2022']\n",
    "params"
   ]
  },
  {
   "cell_type": "code",
   "execution_count": 37,
   "metadata": {},
   "outputs": [
    {
     "data": {
      "text/html": [
       "<div>\n",
       "<style scoped>\n",
       "    .dataframe tbody tr th:only-of-type {\n",
       "        vertical-align: middle;\n",
       "    }\n",
       "\n",
       "    .dataframe tbody tr th {\n",
       "        vertical-align: top;\n",
       "    }\n",
       "\n",
       "    .dataframe thead th {\n",
       "        text-align: right;\n",
       "    }\n",
       "</style>\n",
       "<table border=\"1\" class=\"dataframe\">\n",
       "  <thead>\n",
       "    <tr style=\"text-align: right;\">\n",
       "      <th></th>\n",
       "      <th>KOEN</th>\n",
       "      <th>ALDER</th>\n",
       "      <th>IELAND</th>\n",
       "      <th>TID</th>\n",
       "      <th>INDHOLD</th>\n",
       "    </tr>\n",
       "  </thead>\n",
       "  <tbody>\n",
       "    <tr>\n",
       "      <th>0</th>\n",
       "      <td>Women</td>\n",
       "      <td>Age, total</td>\n",
       "      <td>Yugoslavia</td>\n",
       "      <td>2020</td>\n",
       "      <td>297</td>\n",
       "    </tr>\n",
       "    <tr>\n",
       "      <th>1</th>\n",
       "      <td>Women</td>\n",
       "      <td>Age, total</td>\n",
       "      <td>Poland</td>\n",
       "      <td>2020</td>\n",
       "      <td>507</td>\n",
       "    </tr>\n",
       "    <tr>\n",
       "      <th>2</th>\n",
       "      <td>Women</td>\n",
       "      <td>Age, total</td>\n",
       "      <td>Portugal</td>\n",
       "      <td>2020</td>\n",
       "      <td>17</td>\n",
       "    </tr>\n",
       "    <tr>\n",
       "      <th>3</th>\n",
       "      <td>Women</td>\n",
       "      <td>Age, total</td>\n",
       "      <td>Romania</td>\n",
       "      <td>2020</td>\n",
       "      <td>302</td>\n",
       "    </tr>\n",
       "    <tr>\n",
       "      <th>4</th>\n",
       "      <td>Women</td>\n",
       "      <td>Age, total</td>\n",
       "      <td>Switzerland</td>\n",
       "      <td>2020</td>\n",
       "      <td>14</td>\n",
       "    </tr>\n",
       "    <tr>\n",
       "      <th>...</th>\n",
       "      <td>...</td>\n",
       "      <td>...</td>\n",
       "      <td>...</td>\n",
       "      <td>...</td>\n",
       "      <td>...</td>\n",
       "    </tr>\n",
       "    <tr>\n",
       "      <th>895</th>\n",
       "      <td>Men</td>\n",
       "      <td>Age, total</td>\n",
       "      <td>Republic of North Macedonia</td>\n",
       "      <td>2018</td>\n",
       "      <td>200</td>\n",
       "    </tr>\n",
       "    <tr>\n",
       "      <th>896</th>\n",
       "      <td>Men</td>\n",
       "      <td>Age, total</td>\n",
       "      <td>Yugoslavia, Federal Republic</td>\n",
       "      <td>2018</td>\n",
       "      <td>68</td>\n",
       "    </tr>\n",
       "    <tr>\n",
       "      <th>897</th>\n",
       "      <td>Men</td>\n",
       "      <td>Age, total</td>\n",
       "      <td>Other countries, total</td>\n",
       "      <td>2018</td>\n",
       "      <td>1340</td>\n",
       "    </tr>\n",
       "    <tr>\n",
       "      <th>898</th>\n",
       "      <td>Men</td>\n",
       "      <td>Age, total</td>\n",
       "      <td>Other countries, western</td>\n",
       "      <td>2018</td>\n",
       "      <td>88</td>\n",
       "    </tr>\n",
       "    <tr>\n",
       "      <th>899</th>\n",
       "      <td>Men</td>\n",
       "      <td>Age, total</td>\n",
       "      <td>Other countries, non-western</td>\n",
       "      <td>2018</td>\n",
       "      <td>1252</td>\n",
       "    </tr>\n",
       "  </tbody>\n",
       "</table>\n",
       "<p>900 rows × 5 columns</p>\n",
       "</div>"
      ],
      "text/plain": [
       "      KOEN       ALDER                        IELAND   TID  INDHOLD\n",
       "0    Women  Age, total                    Yugoslavia  2020      297\n",
       "1    Women  Age, total                        Poland  2020      507\n",
       "2    Women  Age, total                      Portugal  2020       17\n",
       "3    Women  Age, total                       Romania  2020      302\n",
       "4    Women  Age, total                   Switzerland  2020       14\n",
       "..     ...         ...                           ...   ...      ...\n",
       "895    Men  Age, total   Republic of North Macedonia  2018      200\n",
       "896    Men  Age, total  Yugoslavia, Federal Republic  2018       68\n",
       "897    Men  Age, total        Other countries, total  2018     1340\n",
       "898    Men  Age, total      Other countries, western  2018       88\n",
       "899    Men  Age, total  Other countries, non-western  2018     1252\n",
       "\n",
       "[900 rows x 5 columns]"
      ]
     },
     "execution_count": 37,
     "metadata": {},
     "output_type": "execute_result"
    }
   ],
   "source": [
    "inc_api = ind.get_data(params=params)\n",
    "inc_api.head(900)"
   ]
  },
  {
   "cell_type": "code",
   "execution_count": 38,
   "metadata": {},
   "outputs": [
    {
     "data": {
      "text/html": [
       "<div>\n",
       "<style scoped>\n",
       "    .dataframe tbody tr th:only-of-type {\n",
       "        vertical-align: middle;\n",
       "    }\n",
       "\n",
       "    .dataframe tbody tr th {\n",
       "        vertical-align: top;\n",
       "    }\n",
       "\n",
       "    .dataframe thead th {\n",
       "        text-align: right;\n",
       "    }\n",
       "</style>\n",
       "<table border=\"1\" class=\"dataframe\">\n",
       "  <thead>\n",
       "    <tr style=\"text-align: right;\">\n",
       "      <th></th>\n",
       "      <th>KOEN</th>\n",
       "      <th>ALDER</th>\n",
       "      <th>IELAND</th>\n",
       "      <th>TID</th>\n",
       "      <th>INDHOLD</th>\n",
       "    </tr>\n",
       "  </thead>\n",
       "  <tbody>\n",
       "    <tr>\n",
       "      <th>750</th>\n",
       "      <td>Women</td>\n",
       "      <td>Age, total</td>\n",
       "      <td>Total</td>\n",
       "      <td>2018</td>\n",
       "      <td>31568</td>\n",
       "    </tr>\n",
       "    <tr>\n",
       "      <th>601</th>\n",
       "      <td>Women</td>\n",
       "      <td>Age, total</td>\n",
       "      <td>Denmark</td>\n",
       "      <td>2021</td>\n",
       "      <td>32458</td>\n",
       "    </tr>\n",
       "    <tr>\n",
       "      <th>375</th>\n",
       "      <td>Women</td>\n",
       "      <td>Age, total</td>\n",
       "      <td>Total</td>\n",
       "      <td>2017</td>\n",
       "      <td>32868</td>\n",
       "    </tr>\n",
       "    <tr>\n",
       "      <th>136</th>\n",
       "      <td>Women</td>\n",
       "      <td>Age, total</td>\n",
       "      <td>Denmark</td>\n",
       "      <td>2020</td>\n",
       "      <td>32874</td>\n",
       "    </tr>\n",
       "    <tr>\n",
       "      <th>150</th>\n",
       "      <td>Women</td>\n",
       "      <td>Age, total</td>\n",
       "      <td>Total</td>\n",
       "      <td>2019</td>\n",
       "      <td>34818</td>\n",
       "    </tr>\n",
       "    <tr>\n",
       "      <th>450</th>\n",
       "      <td>Women</td>\n",
       "      <td>Age, total</td>\n",
       "      <td>Total</td>\n",
       "      <td>2022</td>\n",
       "      <td>38931</td>\n",
       "    </tr>\n",
       "    <tr>\n",
       "      <th>600</th>\n",
       "      <td>Women</td>\n",
       "      <td>Age, total</td>\n",
       "      <td>Total</td>\n",
       "      <td>2021</td>\n",
       "      <td>41140</td>\n",
       "    </tr>\n",
       "    <tr>\n",
       "      <th>135</th>\n",
       "      <td>Women</td>\n",
       "      <td>Age, total</td>\n",
       "      <td>Total</td>\n",
       "      <td>2020</td>\n",
       "      <td>41143</td>\n",
       "    </tr>\n",
       "    <tr>\n",
       "      <th>826</th>\n",
       "      <td>Men</td>\n",
       "      <td>Age, total</td>\n",
       "      <td>Denmark</td>\n",
       "      <td>2018</td>\n",
       "      <td>87452</td>\n",
       "    </tr>\n",
       "    <tr>\n",
       "      <th>301</th>\n",
       "      <td>Men</td>\n",
       "      <td>Age, total</td>\n",
       "      <td>Denmark</td>\n",
       "      <td>2017</td>\n",
       "      <td>89097</td>\n",
       "    </tr>\n",
       "    <tr>\n",
       "      <th>526</th>\n",
       "      <td>Men</td>\n",
       "      <td>Age, total</td>\n",
       "      <td>Denmark</td>\n",
       "      <td>2022</td>\n",
       "      <td>93685</td>\n",
       "    </tr>\n",
       "    <tr>\n",
       "      <th>226</th>\n",
       "      <td>Men</td>\n",
       "      <td>Age, total</td>\n",
       "      <td>Denmark</td>\n",
       "      <td>2019</td>\n",
       "      <td>94962</td>\n",
       "    </tr>\n",
       "    <tr>\n",
       "      <th>676</th>\n",
       "      <td>Men</td>\n",
       "      <td>Age, total</td>\n",
       "      <td>Denmark</td>\n",
       "      <td>2021</td>\n",
       "      <td>96676</td>\n",
       "    </tr>\n",
       "    <tr>\n",
       "      <th>61</th>\n",
       "      <td>Men</td>\n",
       "      <td>Age, total</td>\n",
       "      <td>Denmark</td>\n",
       "      <td>2020</td>\n",
       "      <td>103423</td>\n",
       "    </tr>\n",
       "    <tr>\n",
       "      <th>300</th>\n",
       "      <td>Men</td>\n",
       "      <td>Age, total</td>\n",
       "      <td>Total</td>\n",
       "      <td>2017</td>\n",
       "      <td>112555</td>\n",
       "    </tr>\n",
       "    <tr>\n",
       "      <th>825</th>\n",
       "      <td>Men</td>\n",
       "      <td>Age, total</td>\n",
       "      <td>Total</td>\n",
       "      <td>2018</td>\n",
       "      <td>112883</td>\n",
       "    </tr>\n",
       "    <tr>\n",
       "      <th>225</th>\n",
       "      <td>Men</td>\n",
       "      <td>Age, total</td>\n",
       "      <td>Total</td>\n",
       "      <td>2019</td>\n",
       "      <td>123128</td>\n",
       "    </tr>\n",
       "    <tr>\n",
       "      <th>525</th>\n",
       "      <td>Men</td>\n",
       "      <td>Age, total</td>\n",
       "      <td>Total</td>\n",
       "      <td>2022</td>\n",
       "      <td>124120</td>\n",
       "    </tr>\n",
       "    <tr>\n",
       "      <th>675</th>\n",
       "      <td>Men</td>\n",
       "      <td>Age, total</td>\n",
       "      <td>Total</td>\n",
       "      <td>2021</td>\n",
       "      <td>128597</td>\n",
       "    </tr>\n",
       "    <tr>\n",
       "      <th>60</th>\n",
       "      <td>Men</td>\n",
       "      <td>Age, total</td>\n",
       "      <td>Total</td>\n",
       "      <td>2020</td>\n",
       "      <td>135465</td>\n",
       "    </tr>\n",
       "  </tbody>\n",
       "</table>\n",
       "</div>"
      ],
      "text/plain": [
       "      KOEN       ALDER   IELAND   TID  INDHOLD\n",
       "750  Women  Age, total    Total  2018    31568\n",
       "601  Women  Age, total  Denmark  2021    32458\n",
       "375  Women  Age, total    Total  2017    32868\n",
       "136  Women  Age, total  Denmark  2020    32874\n",
       "150  Women  Age, total    Total  2019    34818\n",
       "450  Women  Age, total    Total  2022    38931\n",
       "600  Women  Age, total    Total  2021    41140\n",
       "135  Women  Age, total    Total  2020    41143\n",
       "826    Men  Age, total  Denmark  2018    87452\n",
       "301    Men  Age, total  Denmark  2017    89097\n",
       "526    Men  Age, total  Denmark  2022    93685\n",
       "226    Men  Age, total  Denmark  2019    94962\n",
       "676    Men  Age, total  Denmark  2021    96676\n",
       "61     Men  Age, total  Denmark  2020   103423\n",
       "300    Men  Age, total    Total  2017   112555\n",
       "825    Men  Age, total    Total  2018   112883\n",
       "225    Men  Age, total    Total  2019   123128\n",
       "525    Men  Age, total    Total  2022   124120\n",
       "675    Men  Age, total    Total  2021   128597\n",
       "60     Men  Age, total    Total  2020   135465"
      ]
     },
     "execution_count": 38,
     "metadata": {},
     "output_type": "execute_result"
    }
   ],
   "source": [
    "inc_api.sort_values(by='INDHOLD', inplace=True)\n",
    "inc_api.tail(20)"
   ]
  },
  {
   "cell_type": "code",
   "execution_count": 39,
   "metadata": {},
   "outputs": [
    {
     "data": {
      "text/html": [
       "<div>\n",
       "<style scoped>\n",
       "    .dataframe tbody tr th:only-of-type {\n",
       "        vertical-align: middle;\n",
       "    }\n",
       "\n",
       "    .dataframe tbody tr th {\n",
       "        vertical-align: top;\n",
       "    }\n",
       "\n",
       "    .dataframe thead th {\n",
       "        text-align: right;\n",
       "    }\n",
       "</style>\n",
       "<table border=\"1\" class=\"dataframe\">\n",
       "  <thead>\n",
       "    <tr style=\"text-align: right;\">\n",
       "      <th></th>\n",
       "      <th>KOEN</th>\n",
       "      <th>ALDER</th>\n",
       "      <th>IELAND</th>\n",
       "      <th>TID</th>\n",
       "      <th>INDHOLD</th>\n",
       "    </tr>\n",
       "  </thead>\n",
       "  <tbody>\n",
       "    <tr>\n",
       "      <th>274</th>\n",
       "      <td>Men</td>\n",
       "      <td>Age, total</td>\n",
       "      <td>Iraq</td>\n",
       "      <td>2019</td>\n",
       "      <td>1923</td>\n",
       "    </tr>\n",
       "    <tr>\n",
       "      <th>574</th>\n",
       "      <td>Men</td>\n",
       "      <td>Age, total</td>\n",
       "      <td>Iraq</td>\n",
       "      <td>2022</td>\n",
       "      <td>1996</td>\n",
       "    </tr>\n",
       "    <tr>\n",
       "      <th>285</th>\n",
       "      <td>Men</td>\n",
       "      <td>Age, total</td>\n",
       "      <td>Syria</td>\n",
       "      <td>2019</td>\n",
       "      <td>2028</td>\n",
       "    </tr>\n",
       "    <tr>\n",
       "      <th>356</th>\n",
       "      <td>Men</td>\n",
       "      <td>Age, total</td>\n",
       "      <td>Lebanon</td>\n",
       "      <td>2017</td>\n",
       "      <td>2130</td>\n",
       "    </tr>\n",
       "    <tr>\n",
       "      <th>724</th>\n",
       "      <td>Men</td>\n",
       "      <td>Age, total</td>\n",
       "      <td>Iraq</td>\n",
       "      <td>2021</td>\n",
       "      <td>2199</td>\n",
       "    </tr>\n",
       "    <tr>\n",
       "      <th>585</th>\n",
       "      <td>Men</td>\n",
       "      <td>Age, total</td>\n",
       "      <td>Syria</td>\n",
       "      <td>2022</td>\n",
       "      <td>2225</td>\n",
       "    </tr>\n",
       "    <tr>\n",
       "      <th>109</th>\n",
       "      <td>Men</td>\n",
       "      <td>Age, total</td>\n",
       "      <td>Iraq</td>\n",
       "      <td>2020</td>\n",
       "      <td>2228</td>\n",
       "    </tr>\n",
       "    <tr>\n",
       "      <th>881</th>\n",
       "      <td>Men</td>\n",
       "      <td>Age, total</td>\n",
       "      <td>Lebanon</td>\n",
       "      <td>2018</td>\n",
       "      <td>2329</td>\n",
       "    </tr>\n",
       "    <tr>\n",
       "      <th>120</th>\n",
       "      <td>Men</td>\n",
       "      <td>Age, total</td>\n",
       "      <td>Syria</td>\n",
       "      <td>2020</td>\n",
       "      <td>2389</td>\n",
       "    </tr>\n",
       "    <tr>\n",
       "      <th>735</th>\n",
       "      <td>Men</td>\n",
       "      <td>Age, total</td>\n",
       "      <td>Syria</td>\n",
       "      <td>2021</td>\n",
       "      <td>2394</td>\n",
       "    </tr>\n",
       "    <tr>\n",
       "      <th>281</th>\n",
       "      <td>Men</td>\n",
       "      <td>Age, total</td>\n",
       "      <td>Lebanon</td>\n",
       "      <td>2019</td>\n",
       "      <td>2499</td>\n",
       "    </tr>\n",
       "    <tr>\n",
       "      <th>581</th>\n",
       "      <td>Men</td>\n",
       "      <td>Age, total</td>\n",
       "      <td>Lebanon</td>\n",
       "      <td>2022</td>\n",
       "      <td>2623</td>\n",
       "    </tr>\n",
       "    <tr>\n",
       "      <th>116</th>\n",
       "      <td>Men</td>\n",
       "      <td>Age, total</td>\n",
       "      <td>Lebanon</td>\n",
       "      <td>2020</td>\n",
       "      <td>2782</td>\n",
       "    </tr>\n",
       "    <tr>\n",
       "      <th>731</th>\n",
       "      <td>Men</td>\n",
       "      <td>Age, total</td>\n",
       "      <td>Lebanon</td>\n",
       "      <td>2021</td>\n",
       "      <td>2790</td>\n",
       "    </tr>\n",
       "    <tr>\n",
       "      <th>323</th>\n",
       "      <td>Men</td>\n",
       "      <td>Age, total</td>\n",
       "      <td>Turkey</td>\n",
       "      <td>2017</td>\n",
       "      <td>3499</td>\n",
       "    </tr>\n",
       "    <tr>\n",
       "      <th>848</th>\n",
       "      <td>Men</td>\n",
       "      <td>Age, total</td>\n",
       "      <td>Turkey</td>\n",
       "      <td>2018</td>\n",
       "      <td>3693</td>\n",
       "    </tr>\n",
       "    <tr>\n",
       "      <th>548</th>\n",
       "      <td>Men</td>\n",
       "      <td>Age, total</td>\n",
       "      <td>Turkey</td>\n",
       "      <td>2022</td>\n",
       "      <td>3890</td>\n",
       "    </tr>\n",
       "    <tr>\n",
       "      <th>248</th>\n",
       "      <td>Men</td>\n",
       "      <td>Age, total</td>\n",
       "      <td>Turkey</td>\n",
       "      <td>2019</td>\n",
       "      <td>3931</td>\n",
       "    </tr>\n",
       "    <tr>\n",
       "      <th>698</th>\n",
       "      <td>Men</td>\n",
       "      <td>Age, total</td>\n",
       "      <td>Turkey</td>\n",
       "      <td>2021</td>\n",
       "      <td>4288</td>\n",
       "    </tr>\n",
       "    <tr>\n",
       "      <th>83</th>\n",
       "      <td>Men</td>\n",
       "      <td>Age, total</td>\n",
       "      <td>Turkey</td>\n",
       "      <td>2020</td>\n",
       "      <td>4596</td>\n",
       "    </tr>\n",
       "  </tbody>\n",
       "</table>\n",
       "</div>"
      ],
      "text/plain": [
       "    KOEN       ALDER   IELAND   TID  INDHOLD\n",
       "274  Men  Age, total     Iraq  2019     1923\n",
       "574  Men  Age, total     Iraq  2022     1996\n",
       "285  Men  Age, total    Syria  2019     2028\n",
       "356  Men  Age, total  Lebanon  2017     2130\n",
       "724  Men  Age, total     Iraq  2021     2199\n",
       "585  Men  Age, total    Syria  2022     2225\n",
       "109  Men  Age, total     Iraq  2020     2228\n",
       "881  Men  Age, total  Lebanon  2018     2329\n",
       "120  Men  Age, total    Syria  2020     2389\n",
       "735  Men  Age, total    Syria  2021     2394\n",
       "281  Men  Age, total  Lebanon  2019     2499\n",
       "581  Men  Age, total  Lebanon  2022     2623\n",
       "116  Men  Age, total  Lebanon  2020     2782\n",
       "731  Men  Age, total  Lebanon  2021     2790\n",
       "323  Men  Age, total   Turkey  2017     3499\n",
       "848  Men  Age, total   Turkey  2018     3693\n",
       "548  Men  Age, total   Turkey  2022     3890\n",
       "248  Men  Age, total   Turkey  2019     3931\n",
       "698  Men  Age, total   Turkey  2021     4288\n",
       "83   Men  Age, total   Turkey  2020     4596"
      ]
     },
     "execution_count": 39,
     "metadata": {},
     "output_type": "execute_result"
    }
   ],
   "source": [
    "inc_api = inc_api[inc_api['IELAND']!='Denmark']\n",
    "inc_api = inc_api[inc_api['IELAND']!='Total']\n",
    "inc_api.tail(20)"
   ]
  },
  {
   "cell_type": "code",
   "execution_count": 40,
   "metadata": {},
   "outputs": [
    {
     "data": {
      "application/vnd.jupyter.widget-view+json": {
       "model_id": "4e170d1541754178b336ee7f331579ec",
       "version_major": 2,
       "version_minor": 0
      },
      "text/plain": [
       "Dropdown(description='Gender:', options=('Men', 'Women'), value='Men')"
      ]
     },
     "metadata": {},
     "output_type": "display_data"
    },
    {
     "data": {
      "image/png": "[encoded data removed]",
      "text/plain": [
       "<Figure size 1000x600 with 1 Axes>"
      ]
     },
     "metadata": {},
     "output_type": "display_data"
    }
   ],
   "source": [
    "import ipywidgets as widgets\n",
    "from IPython.display import clear_output\n",
    "import matplotlib.pyplot as plt\n",
    "\n",
    "# Your DataFrame loading and preparation code here\n",
    "\n",
    "def plot_pie_chart(gender):\n",
    "    # Ensure you use the correct DataFrame name and column names\n",
    "    filtered_data = inc_api[(inc_api['KOEN'] == gender) & \n",
    "                            (inc_api['IELAND'] != 'Total') & \n",
    "                            (inc_api['IELAND'] != 'Denmark') & \n",
    "                            (inc_api['IELAND'] != 'Other countries, non-western') & \n",
    "                            (inc_api['IELAND'] != 'Other countries, total') & \n",
    "                            (~inc_api['TID'].isin(['2017', '2018', '2019', '2020', '2021']))]\n",
    "    top_countries = filtered_data.groupby('IELAND')['INDHOLD'].sum().nlargest(5)\n",
    "    \n",
    "    plt.figure(figsize=(10, 6))\n",
    "    top_countries.plot(kind='pie', autopct='%1.1f%%', startangle=90, ylabel='', \n",
    "                       title=f'Top 5 Countries by Crime Rate Among {gender}')\n",
    "    plt.show()\n",
    "\n",
    "def on_gender_selected(change):\n",
    "    clear_output(wait=True)\n",
    "    display(gender_dropdown)  # Redisplay the dropdown to ensure it persists after clearing the output\n",
    "    plot_pie_chart(change['new'])\n",
    "\n",
    "gender_dropdown = widgets.Dropdown(options=['Men', 'Women'], description='Gender:')\n",
    "gender_dropdown.observe(on_gender_selected, names='value')\n",
    "\n",
    "display(gender_dropdown)\n",
    "plot_pie_chart('Men')  # Default display\n",
    "\n"
   ]
  },
  {
   "cell_type": "code",
   "execution_count": 41,
   "metadata": {},
   "outputs": [
    {
     "data": {
      "application/vnd.jupyter.widget-view+json": {
       "model_id": "dc69d317788c4b3a9d11f53b1082d64d",
       "version_major": 2,
       "version_minor": 0
      },
      "text/plain": [
       "Dropdown(description='Gender:', options=('Men', 'Women'), value='Men')"
      ]
     },
     "metadata": {},
     "output_type": "display_data"
    },
    {
     "data": {
      "text/plain": [
       "<Figure size 1000x600 with 0 Axes>"
      ]
     },
     "metadata": {},
     "output_type": "display_data"
    },
    {
     "data": {
      "image/png": "[encoded data removed]",
      "text/plain": [
       "<Figure size 640x480 with 1 Axes>"
      ]
     },
     "metadata": {},
     "output_type": "display_data"
    }
   ],
   "source": [
    "import ipywidgets as widgets\n",
    "from IPython.display import display, clear_output\n",
    "import matplotlib.pyplot as plt\n",
    "\n",
    "def plot_crime_development(gender):\n",
    "    # Step 1: Filter by gender and year\n",
    "    filtered_data = inc_api[(inc_api['KOEN'] == gender) & (inc_api['TID'].between(2017, 2022))]\n",
    "    \n",
    "    # Step 2: Further filter to include only the specified countries\n",
    "    countries = [\"Turkey\", \"Pakistan\", \"Iraq\", \"Poland\", \"Lebanon\"]\n",
    "    filtered_data = filtered_data[filtered_data['IELAND'].isin(countries)]\n",
    "    \n",
    "    # Step 3: Group by country and year, then sum\n",
    "    grouped_data = filtered_data.groupby(['IELAND', 'TID'])['INDHOLD'].sum().unstack()\n",
    "    \n",
    "    # Step 4: Plot the data\n",
    "    plt.figure(figsize=(10, 6))  # Adjust the figure size for better readability\n",
    "    grouped_data.T.plot(kind='line', marker='o')  # Transpose to have years on the x-axis and countries as lines\n",
    "    plt.title(f'Crime Development Among {gender} from 2017 to 2022')\n",
    "    plt.xlabel('Year')\n",
    "    plt.ylabel('Number of Crimes')\n",
    "    plt.grid(True)\n",
    "    plt.legend(title='Country')\n",
    "    plt.show()\n",
    "\n",
    "def on_gender_selected(change):\n",
    "    clear_output(wait=True)\n",
    "    display(gender_dropdown)  # Redisplay the dropdown to ensure it persists after clearing the output\n",
    "    plot_crime_development(change['new'])\n",
    "\n",
    "gender_dropdown = widgets.Dropdown(options=['Men', 'Women'], description='Gender:')\n",
    "gender_dropdown.observe(on_gender_selected, names='value')\n",
    "\n",
    "display(gender_dropdown)\n",
    "plot_crime_development('Men')  # Default display\n"
   ]
  },
  {
   "cell_type": "code",
   "execution_count": 42,
   "metadata": {},
   "outputs": [
    {
     "name": "stdout",
     "output_type": "stream",
     "text": [
      "Table INDVAN: Immigration by sex, age, citizenship, country of last residence and time\n",
      "Last update: 2024-02-12T08:00:00\n"
     ]
    },
    {
     "data": {
      "text/html": [
       "<div>\n",
       "<style scoped>\n",
       "    .dataframe tbody tr th:only-of-type {\n",
       "        vertical-align: middle;\n",
       "    }\n",
       "\n",
       "    .dataframe tbody tr th {\n",
       "        vertical-align: top;\n",
       "    }\n",
       "\n",
       "    .dataframe thead th {\n",
       "        text-align: right;\n",
       "    }\n",
       "</style>\n",
       "<table border=\"1\" class=\"dataframe\">\n",
       "  <thead>\n",
       "    <tr style=\"text-align: right;\">\n",
       "      <th></th>\n",
       "      <th>variable name</th>\n",
       "      <th># values</th>\n",
       "      <th>First value</th>\n",
       "      <th>First value label</th>\n",
       "      <th>Last value</th>\n",
       "      <th>Last value label</th>\n",
       "      <th>Time variable</th>\n",
       "    </tr>\n",
       "  </thead>\n",
       "  <tbody>\n",
       "    <tr>\n",
       "      <th>0</th>\n",
       "      <td>KØN</td>\n",
       "      <td>2</td>\n",
       "      <td>M</td>\n",
       "      <td>Men</td>\n",
       "      <td>K</td>\n",
       "      <td>Women</td>\n",
       "      <td>False</td>\n",
       "    </tr>\n",
       "    <tr>\n",
       "      <th>1</th>\n",
       "      <td>ALDER</td>\n",
       "      <td>126</td>\n",
       "      <td>0</td>\n",
       "      <td>0 years</td>\n",
       "      <td>125</td>\n",
       "      <td>125 years</td>\n",
       "      <td>False</td>\n",
       "    </tr>\n",
       "    <tr>\n",
       "      <th>2</th>\n",
       "      <td>STATSB</td>\n",
       "      <td>2</td>\n",
       "      <td>DANSK</td>\n",
       "      <td>Denmark</td>\n",
       "      <td>UDLAND</td>\n",
       "      <td>Foreign</td>\n",
       "      <td>False</td>\n",
       "    </tr>\n",
       "    <tr>\n",
       "      <th>3</th>\n",
       "      <td>INDVLAND</td>\n",
       "      <td>242</td>\n",
       "      <td>5901</td>\n",
       "      <td>Faroe Islands</td>\n",
       "      <td>5999</td>\n",
       "      <td>Not stated</td>\n",
       "      <td>False</td>\n",
       "    </tr>\n",
       "    <tr>\n",
       "      <th>4</th>\n",
       "      <td>Tid</td>\n",
       "      <td>44</td>\n",
       "      <td>1980</td>\n",
       "      <td>1980</td>\n",
       "      <td>2023</td>\n",
       "      <td>2023</td>\n",
       "      <td>True</td>\n",
       "    </tr>\n",
       "  </tbody>\n",
       "</table>\n",
       "</div>"
      ],
      "text/plain": [
       "  variable name  # values First value First value label Last value  \\\n",
       "0           KØN         2           M               Men          K   \n",
       "1         ALDER       126           0           0 years        125   \n",
       "2        STATSB         2       DANSK           Denmark     UDLAND   \n",
       "3      INDVLAND       242        5901     Faroe Islands       5999   \n",
       "4           Tid        44        1980              1980       2023   \n",
       "\n",
       "  Last value label  Time variable  \n",
       "0            Women          False  \n",
       "1        125 years          False  \n",
       "2          Foreign          False  \n",
       "3       Not stated          False  \n",
       "4             2023           True  "
      ]
     },
     "metadata": {},
     "output_type": "display_data"
    }
   ],
   "source": [
    "indvan = DstApi('INDVAN')\n",
    "\n",
    "tabsum = indvan.tablesummary(language='en')\n",
    "display(tabsum)"
   ]
  },
  {
   "cell_type": "code",
   "execution_count": 46,
   "metadata": {},
   "outputs": [
    {
     "data": {
      "text/plain": [
       "{'table': 'indvan',\n",
       " 'format': 'BULK',\n",
       " 'lang': 'en',\n",
       " 'variables': [{'code': 'KØN', 'values': ['*']},\n",
       "  {'code': 'ALDER', 'values': ['*']},\n",
       "  {'code': 'STATSB', 'values': ['*']},\n",
       "  {'code': 'INDVLAND', 'values': ['*']},\n",
       "  {'code': 'Tid', 'values': ['*']}]}"
      ]
     },
     "execution_count": 46,
     "metadata": {},
     "output_type": "execute_result"
    }
   ],
   "source": [
    "# The _define_base_params -method gives us a nice template (selects all available data)\n",
    "params = indvan._define_base_params(language='en')\n",
    "params"
   ]
  },
  {
   "cell_type": "code",
   "execution_count": 47,
   "metadata": {},
   "outputs": [
    {
     "data": {
      "text/plain": [
       "{'table': 'indvan',\n",
       " 'format': 'BULK',\n",
       " 'lang': 'en',\n",
       " 'variables': [{'code': 'KØN', 'values': ['*']},\n",
       "  {'code': 'ALDER', 'values': ['*']},\n",
       "  {'code': 'STATSB', 'values': ['*']},\n",
       "  {'code': 'INDVLAND', 'values': ['*']},\n",
       "  {'code': 'Tid', 'values': ['2017', '2018', '2019', '2020', '2021', '2022']}]}"
      ]
     },
     "execution_count": 47,
     "metadata": {},
     "output_type": "execute_result"
    }
   ],
   "source": [
    "variables = params['variables'] # Returns a view, that we can edit\n",
    "variables[4]['values'] = ['2017', '2018', '2019', '2020', '2021', '2022']\n",
    "params"
   ]
  },
  {
   "cell_type": "code",
   "execution_count": 48,
   "metadata": {},
   "outputs": [
    {
     "data": {
      "text/html": [
       "<div>\n",
       "<style scoped>\n",
       "    .dataframe tbody tr th:only-of-type {\n",
       "        vertical-align: middle;\n",
       "    }\n",
       "\n",
       "    .dataframe tbody tr th {\n",
       "        vertical-align: top;\n",
       "    }\n",
       "\n",
       "    .dataframe thead th {\n",
       "        text-align: right;\n",
       "    }\n",
       "</style>\n",
       "<table border=\"1\" class=\"dataframe\">\n",
       "  <thead>\n",
       "    <tr style=\"text-align: right;\">\n",
       "      <th></th>\n",
       "      <th>KØN</th>\n",
       "      <th>ALDER</th>\n",
       "      <th>STATSB</th>\n",
       "      <th>INDVLAND</th>\n",
       "      <th>TID</th>\n",
       "      <th>INDHOLD</th>\n",
       "    </tr>\n",
       "  </thead>\n",
       "  <tbody>\n",
       "    <tr>\n",
       "      <th>0</th>\n",
       "      <td>Men</td>\n",
       "      <td>8 years</td>\n",
       "      <td>Foreign</td>\n",
       "      <td>Portugal</td>\n",
       "      <td>2018</td>\n",
       "      <td>1</td>\n",
       "    </tr>\n",
       "    <tr>\n",
       "      <th>1</th>\n",
       "      <td>Men</td>\n",
       "      <td>9 years</td>\n",
       "      <td>Denmark</td>\n",
       "      <td>Switzerland</td>\n",
       "      <td>2018</td>\n",
       "      <td>1</td>\n",
       "    </tr>\n",
       "    <tr>\n",
       "      <th>2</th>\n",
       "      <td>Women</td>\n",
       "      <td>15 years</td>\n",
       "      <td>Denmark</td>\n",
       "      <td>South Africa</td>\n",
       "      <td>2018</td>\n",
       "      <td>1</td>\n",
       "    </tr>\n",
       "    <tr>\n",
       "      <th>3</th>\n",
       "      <td>Women</td>\n",
       "      <td>52 years</td>\n",
       "      <td>Foreign</td>\n",
       "      <td>Ireland</td>\n",
       "      <td>2018</td>\n",
       "      <td>1</td>\n",
       "    </tr>\n",
       "    <tr>\n",
       "      <th>4</th>\n",
       "      <td>Men</td>\n",
       "      <td>59 years</td>\n",
       "      <td>Foreign</td>\n",
       "      <td>Belgium</td>\n",
       "      <td>2018</td>\n",
       "      <td>1</td>\n",
       "    </tr>\n",
       "    <tr>\n",
       "      <th>...</th>\n",
       "      <td>...</td>\n",
       "      <td>...</td>\n",
       "      <td>...</td>\n",
       "      <td>...</td>\n",
       "      <td>...</td>\n",
       "      <td>...</td>\n",
       "    </tr>\n",
       "    <tr>\n",
       "      <th>895</th>\n",
       "      <td>Women</td>\n",
       "      <td>29 years</td>\n",
       "      <td>Denmark</td>\n",
       "      <td>Philippines</td>\n",
       "      <td>2018</td>\n",
       "      <td>1</td>\n",
       "    </tr>\n",
       "    <tr>\n",
       "      <th>896</th>\n",
       "      <td>Men</td>\n",
       "      <td>67 years</td>\n",
       "      <td>Denmark</td>\n",
       "      <td>Namibia</td>\n",
       "      <td>2018</td>\n",
       "      <td>1</td>\n",
       "    </tr>\n",
       "    <tr>\n",
       "      <th>897</th>\n",
       "      <td>Men</td>\n",
       "      <td>74 years</td>\n",
       "      <td>Denmark</td>\n",
       "      <td>Not stated</td>\n",
       "      <td>2018</td>\n",
       "      <td>1</td>\n",
       "    </tr>\n",
       "    <tr>\n",
       "      <th>898</th>\n",
       "      <td>Men</td>\n",
       "      <td>16 years</td>\n",
       "      <td>Denmark</td>\n",
       "      <td>Lebanon</td>\n",
       "      <td>2018</td>\n",
       "      <td>2</td>\n",
       "    </tr>\n",
       "    <tr>\n",
       "      <th>899</th>\n",
       "      <td>Women</td>\n",
       "      <td>43 years</td>\n",
       "      <td>Denmark</td>\n",
       "      <td>Brazil</td>\n",
       "      <td>2018</td>\n",
       "      <td>1</td>\n",
       "    </tr>\n",
       "  </tbody>\n",
       "</table>\n",
       "<p>900 rows × 6 columns</p>\n",
       "</div>"
      ],
      "text/plain": [
       "       KØN     ALDER   STATSB      INDVLAND   TID  INDHOLD\n",
       "0      Men   8 years  Foreign      Portugal  2018        1\n",
       "1      Men   9 years  Denmark   Switzerland  2018        1\n",
       "2    Women  15 years  Denmark  South Africa  2018        1\n",
       "3    Women  52 years  Foreign       Ireland  2018        1\n",
       "4      Men  59 years  Foreign       Belgium  2018        1\n",
       "..     ...       ...      ...           ...   ...      ...\n",
       "895  Women  29 years  Denmark   Philippines  2018        1\n",
       "896    Men  67 years  Denmark       Namibia  2018        1\n",
       "897    Men  74 years  Denmark    Not stated  2018        1\n",
       "898    Men  16 years  Denmark       Lebanon  2018        2\n",
       "899  Women  43 years  Denmark        Brazil  2018        1\n",
       "\n",
       "[900 rows x 6 columns]"
      ]
     },
     "execution_count": 48,
     "metadata": {},
     "output_type": "execute_result"
    }
   ],
   "source": [
    "indvan_api = indvan.get_data(params=params)\n",
    "indvan_api.head(900)"
   ]
  },
  {
   "cell_type": "markdown",
   "metadata": {},
   "source": [
    "## Explore each data set"
   ]
  },
  {
   "cell_type": "markdown",
   "metadata": {},
   "source": [
    "In order to be able to **explore the raw data**, you may provide **static** and **interactive plots** to show important developments "
   ]
  },
  {
   "cell_type": "markdown",
   "metadata": {},
   "source": [
    "**Interactive plot** :"
   ]
  },
  {
   "cell_type": "code",
   "execution_count": 2,
   "metadata": {},
   "outputs": [
    {
     "data": {
      "application/vnd.jupyter.widget-view+json": {
       "model_id": "5c351241b05b4b5ea0d12c18d1cd9d85",
       "version_major": 2,
       "version_minor": 0
      },
      "text/plain": [
       "interactive(children=(Output(),), _dom_classes=('widget-interact',))"
      ]
     },
     "metadata": {},
     "output_type": "display_data"
    }
   ],
   "source": [
    "def plot_func():\n",
    "    # Function that operates on data set\n",
    "    pass\n",
    "\n",
    "widgets.interact(plot_func, \n",
    "    # Let the widget interact with data through plot_func()    \n",
    "); \n"
   ]
  },
  {
   "cell_type": "markdown",
   "metadata": {},
   "source": [
    "Explain what you see when moving elements of the interactive plot around. "
   ]
  },
  {
   "cell_type": "markdown",
   "metadata": {},
   "source": [
    "# Merge data sets"
   ]
  },
  {
   "cell_type": "markdown",
   "metadata": {},
   "source": [
    "Now you create combinations of your loaded data sets. Remember the illustration of a (inner) **merge**:"
   ]
  },
  {
   "cell_type": "code",
   "execution_count": 3,
   "metadata": {},
   "outputs": [
    {
     "data": {
      "image/png": "[encoded data removed]",
      "text/plain": [
       "<Figure size 1080x504 with 1 Axes>"
      ]
     },
     "metadata": {},
     "output_type": "display_data"
    }
   ],
   "source": [
    "plt.figure(figsize=(15,7))\n",
    "v = venn2(subsets = (4, 4, 10), set_labels = ('Data X', 'Data Y'))\n",
    "v.get_label_by_id('100').set_text('dropped')\n",
    "v.get_label_by_id('010').set_text('dropped' )\n",
    "v.get_label_by_id('110').set_text('included')\n",
    "plt.show()"
   ]
  },
  {
   "cell_type": "markdown",
   "metadata": {},
   "source": [
    "Here we are dropping elements from both data set X and data set Y. A left join would keep all observations in data X intact and subset only from Y. \n",
    "\n",
    "Make sure that your resulting data sets have the correct number of rows and columns. That is, be clear about which observations are thrown away. \n",
    "\n",
    "**Note:** Don't make Venn diagrams in your own data project. It is just for exposition. "
   ]
  },
  {
   "cell_type": "markdown",
   "metadata": {},
   "source": [
    "# Analysis"
   ]
  },
  {
   "cell_type": "markdown",
   "metadata": {},
   "source": [
    "To get a quick overview of the data, we show some **summary statistics** on a meaningful aggregation. "
   ]
  },
  {
   "cell_type": "markdown",
   "metadata": {},
   "source": [
    "MAKE FURTHER ANALYSIS. EXPLAIN THE CODE BRIEFLY AND SUMMARIZE THE RESULTS."
   ]
  },
  {
   "cell_type": "markdown",
   "metadata": {},
   "source": [
    "# Conclusion"
   ]
  },
  {
   "cell_type": "markdown",
   "metadata": {},
   "source": [
    "ADD CONCISE CONLUSION."
   ]
  }
 ],
 "metadata": {
  "kernelspec": {
   "display_name": "base",
   "language": "python",
   "name": "python3"
  },
  "language_info": {
   "codemirror_mode": {
    "name": "ipython",
    "version": 3
   },
   "file_extension": ".py",
   "mimetype": "text/x-python",
   "name": "python",
   "nbconvert_exporter": "python",
   "pygments_lexer": "ipython3",
   "version": "3.11.7"
  },
  "toc-autonumbering": true,
  "vscode": {
   "interpreter": {
    "hash": "47ef90cdf3004d3f859f1fb202523c65c07ba7c22eefd261b181f4744e2d0403"
   }
  }
 },
 "nbformat": 4,
 "nbformat_minor": 4
}
