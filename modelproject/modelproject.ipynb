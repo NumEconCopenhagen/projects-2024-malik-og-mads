{
 "cells": [
  {
   "cell_type": "markdown",
   "metadata": {},
   "source": [
    "# The Effect of Savings in a Solow Model"
   ]
  },
  {
   "attachments": {},
   "cell_type": "markdown",
   "metadata": {},
   "source": [
    "> **Note the following:** \n",
    "> 1. This is *not* meant to be an example of an actual **model analysis project**, just an example of how to structure such a project.\n",
    "> 1. Remember the general advice on structuring and commenting your code\n",
    "> 1. The `modelproject.py` file includes a function which could be used multiple times in this notebook."
   ]
  },
  {
   "cell_type": "markdown",
   "metadata": {},
   "source": [
    "## Introduction:\n",
    "This study explores the Solow growth model, a foundational economic theory that analyzes the determinants of long-term economic growth. We extend the traditional model to include human capital, aiming to understand how the savings rate for human capital and physical capital interact to shape the economy. Through equations and interactive visualizations, we investigate the model's predictive capabilities."
   ]
  },
  {
   "cell_type": "markdown",
   "metadata": {},
   "source": [
    "## Imports and set magics:"
   ]
  },
  {
   "cell_type": "code",
   "execution_count": 1,
   "metadata": {},
   "outputs": [],
   "source": [
    "import sympy as sm\n",
    "import matplotlib.pyplot as plt\n",
    "from ipywidgets import interact, FloatSlider\n",
    "import scipy\n",
    "\n",
    "\n",
    "# autoreload modules when code is run\n",
    "%load_ext autoreload\n",
    "%autoreload 2\n",
    "\n",
    "#We import our the classes that is needed\n",
    "from modelproject import Equation\n",
    "model1 = Equation()\n",
    "from modelproject import Solowvalue\n",
    "model2 = Solowvalue()\n",
    "from modelproject import trans_dia\n",
    "model3 = trans_dia()\n",
    "from modelproject import inter_trans_dia\n",
    "model4 = inter_trans_dia()\n",
    "from modelproject import Solow2_equations\n",
    "model5 = Solow2_equations()\n",
    "from modelproject import trans_dia2\n",
    "model6 = trans_dia2()\n",
    "from modelproject import h_steady_state, k_steady_state"
   ]
  },
  {
   "cell_type": "markdown",
   "metadata": {},
   "source": [
    "# Basic Solow Model"
   ]
  },
  {
   "cell_type": "markdown",
   "metadata": {},
   "source": [
    "We start by setting up equations 1-5 which represents a basic Solow model. "
   ]
  },
  {
   "cell_type": "markdown",
   "metadata": {},
   "source": [
    "**The equations for The Basic Solow Model**\n",
    "$$Y_t=K^\\alpha_t(A_tL_t)^{1-\\alpha}, \\quad 0<\\alpha<1 \\tag{1}$$\n",
    "$$K_{t+1}=sY_t+(1-\\delta)K_t, \\quad 0<\\delta<1 \\tag{2}$$\n",
    "$$S_t=sY_t, \\quad 0<s<1 \\tag{3}$$\n",
    "$$L_{t+1}=(1+n)L_t \\tag{4}$$\n",
    "$$A_{t+1}=(1+g)A_t \\tag{5}$$"
   ]
  },
  {
   "cell_type": "markdown",
   "metadata": {},
   "source": [
    "Equation (1) specifies a Cobb-Douglas production function, describing the total production, $Y_t$, as a function of physical capital, $K_t$, $A_t$, the level of technology, and labor which is $L_t$. Equation (2) describes how physical capital evolve over time, where s denotes the savings rate for physical capital and $\\delta$ is the depreciation rate. Equation (3) describes the share of the income which is saved/invested. Equations (4) and (5) indicate how the workforce and the level of technology grow over time. Definitions are used: $\\tilde{k_t} = \\frac{K_t}{A_tL_t}$. "
   ]
  },
  {
   "cell_type": "markdown",
   "metadata": {},
   "source": [
    "We compute the transition equation for physical capital by finding the per effective worker variable. We find the transition equation by substracting equation (1) into (2) and dividing it with equation (4) & (5)\n",
    "\n",
    "$$\n",
    "\\tilde{k}_{t+1}= \\frac{1}{(1+g) (1+n)}[s\\tilde{k}_{t}^\\alpha+(1-\\delta)\\tilde{k}_{t}]\n",
    "$$"
   ]
  },
  {
   "cell_type": "markdown",
   "metadata": {},
   "source": [
    "We are now able to find the steady state by saying $\\tilde{k}_{t+1} = \\tilde{k}_t = \\tilde{k}$. We then isolate $\\tilde{k}$. "
   ]
  },
  {
   "cell_type": "code",
   "execution_count": 2,
   "metadata": {},
   "outputs": [
    {
     "data": {
      "text/latex": [
       "$\\displaystyle \\left(\\frac{\\delta + g n + g + n}{s}\\right)^{\\frac{1}{\\alpha - 1}}$"
      ],
      "text/plain": [
       "((delta + g*n + g + n)/s)**(1/(alpha - 1))"
      ]
     },
     "execution_count": 2,
     "metadata": {},
     "output_type": "execute_result"
    }
   ],
   "source": [
    "model1.ss_equation()"
   ]
  },
  {
   "cell_type": "markdown",
   "metadata": {},
   "source": [
    "The steady state for capital per effective worker can be rewritten as:\n",
    "\n",
    "$$\n",
    "\\tilde{k}^*= \\frac{s}{\\delta+gn+g+n}^\\frac{1}{1-\\alpha}\n",
    "$$"
   ]
  },
  {
   "cell_type": "markdown",
   "metadata": {},
   "source": [
    "We now seek to compute the exact steady state value. We do that by giving the parameters the following values:\n",
    "$$\n",
    "\\alpha = 0.3\n",
    "$$\n",
    "$$\n",
    "\\delta = 0.05\n",
    "$$\n",
    "$$\n",
    "s = 0.2\n",
    "$$\n",
    "$$\n",
    "g = 0.01\n",
    "$$\n",
    "$$\n",
    "n = 0.02\n",
    "$$"
   ]
  },
  {
   "cell_type": "markdown",
   "metadata": {},
   "source": [
    "We insert these values into our steady state equation and get the following value:"
   ]
  },
  {
   "cell_type": "code",
   "execution_count": 3,
   "metadata": {},
   "outputs": [
    {
     "name": "stdout",
     "output_type": "stream",
     "text": [
      "3.70\n"
     ]
    }
   ],
   "source": [
    "print(f\"{model2.ss_equation():.2f}\")"
   ]
  },
  {
   "cell_type": "markdown",
   "metadata": {},
   "source": [
    "Now we solve it numerically by using scipy:"
   ]
  },
  {
   "cell_type": "code",
   "execution_count": 4,
   "metadata": {},
   "outputs": [
    {
     "name": "stdout",
     "output_type": "stream",
     "text": [
      "3.69\n"
     ]
    }
   ],
   "source": [
    "par = {'alpha': 0.3, 'n': 0.02, 'g': 0.01, 's': 0.2, 'delta': 0.05}\n",
    "\n",
    "def obj(k):\n",
    "    return k - 1/((1+par['g'])*(1+par['n']))*(par['s']*k**par['alpha'] + (1-par['delta'])*k)\n",
    "\n",
    "k0 = 3.6\n",
    "\n",
    "\n",
    "res = scipy.optimize.root_scalar(obj,x0=k0)\n",
    "\n",
    "print(f\"{res.root:.2f}\")"
   ]
  },
  {
   "cell_type": "markdown",
   "metadata": {},
   "source": [
    "We get that the steady state by using a numerically solution 3.69"
   ]
  },
  {
   "cell_type": "markdown",
   "metadata": {},
   "source": [
    "This can visualized this in a transition diagram. We see that the two graphs intersect each other at the steady state value we just found."
   ]
  },
  {
   "cell_type": "code",
   "execution_count": 5,
   "metadata": {},
   "outputs": [
    {
     "data": {
      "image/png": "[encoded data removed]",
      "text/plain": [
       "<Figure size 640x480 with 1 Axes>"
      ]
     },
     "metadata": {},
     "output_type": "display_data"
    }
   ],
   "source": [
    "model3.transition_diagram()"
   ]
  },
  {
   "cell_type": "markdown",
   "metadata": {},
   "source": [
    "At the point where the two graphs intersect, the physical capital depreciates at the same rate as new savings/investments are made. This means that the level for physical capital per effective worker stays at the same level."
   ]
  },
  {
   "cell_type": "markdown",
   "metadata": {},
   "source": [
    "# Basic Solow Model with a change in savings"
   ]
  },
  {
   "cell_type": "markdown",
   "metadata": {},
   "source": [
    "Now we want to explore how changes in savings/investment levels impact the evolution of the steady state. By adjusting the variable \"s\", we are able to explore savings effect on the economy's long-term stability and growth trajector for physical capital per effective worker."
   ]
  },
  {
   "cell_type": "code",
   "execution_count": 6,
   "metadata": {},
   "outputs": [
    {
     "data": {
      "application/vnd.jupyter.widget-view+json": {
       "model_id": "116c81ed4d764c1eb42da6d7e8559ece",
       "version_major": 2,
       "version_minor": 0
      },
      "text/plain": [
       "interactive(children=(FloatSlider(value=0.2, continuous_update=False, description='Savings Rate:', max=0.5, mi…"
      ]
     },
     "metadata": {},
     "output_type": "display_data"
    },
    {
     "data": {
      "text/plain": [
       "<function __main__.update_transition_diagram(s)>"
      ]
     },
     "execution_count": 6,
     "metadata": {},
     "output_type": "execute_result"
    }
   ],
   "source": [
    "def update_transition_diagram(s):\n",
    "    model4.set_savings_rate(s)\n",
    "    plt.figure(figsize=(10, 6))  # Optionally clear the previous figure by re-creating it\n",
    "    model4.transition_diagram()\n",
    "\n",
    "# Create a slider for the savings rate\n",
    "s_slider = FloatSlider(min=0.01, max=0.5, step=0.01, value=model4.s, description='Savings Rate:', continuous_update=False)\n",
    "\n",
    "# Set up interactive widget\n",
    "interact(update_transition_diagram, s=s_slider)\n"
   ]
  },
  {
   "cell_type": "markdown",
   "metadata": {},
   "source": [
    "As savings increase, we observe a rise in the level of physical capital per effective worker in steady state. This can be understood as when savings increases it leads to higher levels of investment, which contributes to the accumulation of physical capital in the economy. With more capital available per worker, productivity tends to increase, as workers have access to better tools and equipment, leading to higher output per worker. This relationship underscores the importance of savings and investment in the economy."
   ]
  },
  {
   "cell_type": "markdown",
   "metadata": {},
   "source": [
    "## Extended Solow with human capital"
   ]
  },
  {
   "cell_type": "markdown",
   "metadata": {},
   "source": [
    "We now extend our solow model with the addition of human capital. This means we get 3 new equations (6), (7) & (8). Human capital should be understood as knowledge and skills. "
   ]
  },
  {
   "cell_type": "markdown",
   "metadata": {},
   "source": [
    "$$L_{t+1}=(1+n)L_t \\tag{4}$$\n",
    "$$A_{t+1}=(1+g)A_t \\tag{5}$$\n",
    "$$Y_t=K^\\alpha_t(A_tL_t)^{1-\\alpha}H^\\phi, \\quad 0<\\alpha<1, \\quad 0<\\phi<1 \\tag{6}$$\n",
    "$$K_{t+1}=s_KY_t+(1-\\delta)K_t, \\quad 0<\\delta<1 \\tag{7}$$\n",
    "$$H_{t+1}=s_HY_t+(1-\\delta)H_t \\tag{8}$$"
   ]
  },
  {
   "cell_type": "markdown",
   "metadata": {},
   "source": [
    "Equation (6) specifies again a Cobb-Douglas production function, describing the total production, $Y_t$, as a function of physical capital, the level of technology, and labor, but now we also add human capital. Equation (7) is almost identical to equation (2) the only difference is that there is a savings rate for physical capital. Equation (8) describes how human capital evolve over time, where $s_H$ denotes the savings rate for human capital and $\\delta$ is the depreciation rate of human capital."
   ]
  },
  {
   "cell_type": "markdown",
   "metadata": {},
   "source": [
    "We are now able to compute the trasition equations for the human capital and physical capital as per effective worker. We do this by firstly dividing equation (6) with (4) & (5). We also divide equation (7) & (8) with (4) & (5). We then substitute the newly found $\\tilde{y}$ into the equations for human and physical capital as per effective worker. We then get these transition equations:\n",
    "\n",
    "$$ \n",
    "\\tilde{h}_{t+1} = \\frac{1}{(1+g) (1+n)} \\left((1-\\delta) \\tilde{h_{t}} + s_{H} \\tilde{h_{t}}^{\\phi} \\tilde{k_{t}}^{\\alpha} \\right)\n",
    "$$\n",
    "$$\n",
    "\\tilde{k}_{t+1} = \\frac{1}{(1+g) (1+n)} \\left((1-\\delta) \\tilde{k_{t}} +  s_{K} \\tilde{h_{t}}^{\\phi} \\tilde{k_{t}}^{\\alpha}\\right)\n",
    "$$\n"
   ]
  },
  {
   "cell_type": "markdown",
   "metadata": {},
   "source": [
    "We set up our parameters"
   ]
  },
  {
   "cell_type": "code",
   "execution_count": 7,
   "metadata": {},
   "outputs": [],
   "source": [
    "# The parameters\n",
    "delta = sm.symbols('delta')\n",
    "k = sm.symbols('k')\n",
    "alpha = sm.symbols('alpha')\n",
    "phi = sm.symbols('phi')\n",
    "g = sm.symbols('g')\n",
    "h = sm.symbols('h')\n",
    "n = sm.symbols('n')\n",
    "#savings\n",
    "s_K = sm.symbols('s_K')\n",
    "s_H = sm.symbols('s_H')\n"
   ]
  },
  {
   "cell_type": "markdown",
   "metadata": {},
   "source": [
    "We can now compute the nullclines for human and physical capital per effective worker. We set physical and human capital at a constant level. The nullclines look like this:"
   ]
  },
  {
   "cell_type": "markdown",
   "metadata": {},
   "source": [
    "For Physical capital:\n",
    "$$\n",
    "\\Delta \\tilde{k}=0\n",
    "$$ \n",
    "$$\n",
    "\\Updownarrow \n",
    "$$\n",
    "$$\n",
    "\\tilde{h}=\\left(\\frac{{\\delta + gn + g + n}}{{s_K}}\\right)^{\\frac{1}{{\\phi}}} \\tilde{k}_t^{\\frac{{1 - \\alpha}}{{\\phi}}}\n",
    "$$\n",
    "For Human capital:\n",
    "$$ \\Delta \\tilde{h} =0\n",
    "$$\n",
    "$$\n",
    "\\Updownarrow \n",
    "$$\n",
    "$$\n",
    " \\tilde{h}=\\left(\\frac{{s_H}}{{\\delta + gn + g + n}}\\right)^{\\frac{1}{{1 - \\phi}}} \\tilde{k}_t^{\\frac{{\\alpha}}{{1 - \\phi}}}\n",
    "$$\n"
   ]
  },
  {
   "cell_type": "markdown",
   "metadata": {},
   "source": [
    "We now find the steady states for human capital and physical capital."
   ]
  },
  {
   "cell_type": "markdown",
   "metadata": {},
   "source": [
    "Steady state equation for human capital per effective worker:"
   ]
  },
  {
   "cell_type": "code",
   "execution_count": 8,
   "metadata": {},
   "outputs": [
    {
     "data": {
      "text/latex": [
       "$\\displaystyle \\left(\\frac{\\left(\\delta + g n + g + n\\right) \\left(\\left(\\frac{h^{- \\phi} \\left(\\delta + g n + g + n\\right)}{s_{K}}\\right)^{\\frac{1}{\\alpha - 1}}\\right)^{- \\alpha}}{s_{H}}\\right)^{\\frac{1}{\\phi - 1}}$"
      ],
      "text/plain": [
       "((delta + g*n + g + n)/(s_H*(((delta + g*n + g + n)/(h**phi*s_K))**(1/(alpha - 1)))**alpha))**(1/(phi - 1))"
      ]
     },
     "execution_count": 8,
     "metadata": {},
     "output_type": "execute_result"
    }
   ],
   "source": [
    "model5.ss_value_h(k,h,alpha,delta,s_K,s_H,g,n,phi)"
   ]
  },
  {
   "cell_type": "markdown",
   "metadata": {},
   "source": [
    "Steady state equation for physical capital per effective worker:"
   ]
  },
  {
   "cell_type": "code",
   "execution_count": 9,
   "metadata": {},
   "outputs": [
    {
     "data": {
      "text/latex": [
       "$\\displaystyle \\left(\\frac{\\left(\\delta + g n + g + n\\right) \\left(\\left(\\frac{k^{- \\alpha} \\left(\\delta + g n + g + n\\right)}{s_{H}}\\right)^{\\frac{1}{\\phi - 1}}\\right)^{- \\phi}}{s_{K}}\\right)^{\\frac{1}{\\alpha - 1}}$"
      ],
      "text/plain": [
       "((delta + g*n + g + n)/(s_K*(((delta + g*n + g + n)/(k**alpha*s_H))**(1/(phi - 1)))**phi))**(1/(alpha - 1))"
      ]
     },
     "execution_count": 9,
     "metadata": {},
     "output_type": "execute_result"
    }
   ],
   "source": [
    "model5.ss_value_k(k,h,alpha,delta,s_K,s_H,g,n,phi)"
   ]
  },
  {
   "cell_type": "markdown",
   "metadata": {},
   "source": [
    "The two expressions can be rewritten like this:\n",
    "\n",
    "$$\n",
    "\\tilde{h}^* = \\left( \\frac {s_H^{1-\\alpha} s_K ^\\alpha } { \\delta + gn + g + n } \\right) ^\\frac{1}{1- \\alpha - \\phi}\n",
    "$$\n",
    "$$\n",
    "\\tilde{k}^* = \\left( \\frac {s_H^\\phi s_K ^{1-\\phi} } { \\delta + gn + g + n } \\right) ^\\frac{1}{1 - \\alpha - \\phi}\n",
    "$$"
   ]
  },
  {
   "cell_type": "markdown",
   "metadata": {},
   "source": [
    "The equations have effects on each other this is also called \"Cross-effects\" and \"reinforcing effects\""
   ]
  },
  {
   "cell_type": "markdown",
   "metadata": {},
   "source": [
    "We now find the steady state values by inserting the same values for the parameters as earlier."
   ]
  },
  {
   "cell_type": "code",
   "execution_count": 10,
   "metadata": {},
   "outputs": [
    {
     "name": "stdout",
     "output_type": "stream",
     "text": [
      "SS-value for h: 5.94\n",
      "SS-value for k: 7.91\n"
     ]
    }
   ],
   "source": [
    "# Define parameters\n",
    "alpha = 0.3\n",
    "phi = 0.3\n",
    "delta = 0.05\n",
    "n = 0.02\n",
    "g = 0.01\n",
    "s_K = 0.2\n",
    "s_H = 0.15\n",
    "\n",
    "# Calculate steady state values\n",
    "h_ss = h_steady_state(alpha, phi, delta, n, g, s_K, s_H)\n",
    "k_ss = k_steady_state(alpha, phi, delta, n, g, s_K, s_H)\n",
    "\n",
    "# Print the steady state values\n",
    "print(f'SS-value for h: {h_ss:.2f}')\n",
    "print(f'SS-value for k: {k_ss:.2f}')\n"
   ]
  },
  {
   "cell_type": "markdown",
   "metadata": {},
   "source": [
    "We again also find it numerically using scipy:"
   ]
  },
  {
   "cell_type": "code",
   "execution_count": 11,
   "metadata": {},
   "outputs": [
    {
     "name": "stdout",
     "output_type": "stream",
     "text": [
      "SS-value for h: 5.94\n",
      "SS-value for k: 7.91\n"
     ]
    }
   ],
   "source": [
    "par = {'alpha': 0.3, 'n': 0.02, 'g': 0.01, 's': 0.2, 'delta': 0.05, 's_H':0.15, 'phi':0.3, 's_K': 0.2}\n",
    "h = ((par['s_H']**(1-par['alpha'])*par['s_K']**par['alpha']) / (par['delta']+par['g']*par['n']+par['g']+par['n']))**(1/(1-par['alpha']-par['phi']))\n",
    "\n",
    "def obj(k):\n",
    "    return k - 1/((1+par['g'])*(1+par['n']))*((1-par['delta'])* k + par['s_K'] * h**par['phi'] * k **par['alpha'])\n",
    "\n",
    "\n",
    "k0 = 3\n",
    "\n",
    "res = scipy.optimize.root_scalar(obj,x0=k0)\n",
    "\n",
    "print(f'SS-value for h: {h:.2f}')\n",
    "print(f'SS-value for k: {res.root:.2f}')"
   ]
  },
  {
   "cell_type": "markdown",
   "metadata": {},
   "source": [
    "We find that the steady states are the same no matter which method we use."
   ]
  },
  {
   "cell_type": "markdown",
   "metadata": {},
   "source": [
    "The figure below illustrate a phase diagram with the 2 nullclines we found. It is seen that the two graphs intersects when human capital is equal to 5.94 and physical capital is equal to 7.91. This was also what we found the steady states to be.\n",
    "\n"
   ]
  },
  {
   "cell_type": "code",
   "execution_count": 12,
   "metadata": {},
   "outputs": [
    {
     "data": {
      "image/png": "[encoded data removed]",
      "text/plain": [
       "<Figure size 800x600 with 1 Axes>"
      ]
     },
     "metadata": {},
     "output_type": "display_data"
    }
   ],
   "source": [
    "model6.NClines()"
   ]
  },
  {
   "cell_type": "markdown",
   "metadata": {},
   "source": [
    "# Extended Solow Model with a change in savings for physical and human capital"
   ]
  },
  {
   "cell_type": "markdown",
   "metadata": {},
   "source": [
    "We now make the graphs interactive to show which effect changes in the savings rate for physical and human capital have on the steady state values for human capital per effective worker and physical capital."
   ]
  },
  {
   "cell_type": "code",
   "execution_count": 13,
   "metadata": {},
   "outputs": [
    {
     "data": {
      "application/vnd.jupyter.widget-view+json": {
       "model_id": "4f31e63cd71b4a6d8f5a755f183df731",
       "version_major": 2,
       "version_minor": 0
      },
      "text/plain": [
       "interactive(children=(FloatSlider(value=0.2, continuous_update=False, description='s_K', max=0.5, min=0.01, st…"
      ]
     },
     "metadata": {},
     "output_type": "display_data"
    }
   ],
   "source": [
    "model6.interactive_NClines()"
   ]
  },
  {
   "cell_type": "markdown",
   "metadata": {},
   "source": [
    "We find that when the savings rate for each type of capital rises, the steady state for that type of capital also rises. This makes sense intuitively, since higher savings rates is equal to a higher investment in that type of capital."
   ]
  },
  {
   "cell_type": "markdown",
   "metadata": {},
   "source": [
    "# Conclusion"
   ]
  },
  {
   "cell_type": "markdown",
   "metadata": {},
   "source": [
    "In this study, we explored the dynamic properties of the Solow model, both in its basic form and extended to include human capital. By deriving and solving the equations governing the evolution of physical and human capital per effective worker, we were able to identify and compute the steady state values under various parameter settings. The use of interactive phase diagrams has proven valuable in visualizing how changes in the savings rates impact the long-term equilibrium of the model. These findings not only underscore the robustness of the Solow model in economic growth theory but also highlight its adaptability to complex scenarios involving multiple types of capital."
   ]
  }
 ],
 "metadata": {
  "kernelspec": {
   "display_name": "base",
   "language": "python",
   "name": "python3"
  },
  "language_info": {
   "codemirror_mode": {
    "name": "ipython",
    "version": 3
   },
   "file_extension": ".py",
   "mimetype": "text/x-python",
   "name": "python",
   "nbconvert_exporter": "python",
   "pygments_lexer": "ipython3",
   "version": "3.11.7"
  },
  "toc-autonumbering": true,
  "vscode": {
   "interpreter": {
    "hash": "47ef90cdf3004d3f859f1fb202523c65c07ba7c22eefd261b181f4744e2d0403"
   }
  }
 },
 "nbformat": 4,
 "nbformat_minor": 4
}
